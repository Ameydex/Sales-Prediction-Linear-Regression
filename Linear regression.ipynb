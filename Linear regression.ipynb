{
 "cells": [
  {
   "cell_type": "markdown",
   "id": "4dcf4b02-355d-4ed1-8409-287f23000d00",
   "metadata": {},
   "source": [
    "Linear Regression"
   ]
  },
  {
   "cell_type": "code",
   "execution_count": 1,
   "id": "f41ebd56-9ea5-4661-8728-dc4f79dd2eac",
   "metadata": {},
   "outputs": [
    {
     "name": "stdout",
     "output_type": "stream",
     "text": [
      "Requirement already satisfied: scikit-learn in c:\\users\\amey\\appdata\\local\\packages\\pythonsoftwarefoundation.python.3.11_qbz5n2kfra8p0\\localcache\\local-packages\\python311\\site-packages (1.3.2)\n",
      "Requirement already satisfied: numpy<2.0,>=1.17.3 in c:\\users\\amey\\appdata\\local\\packages\\pythonsoftwarefoundation.python.3.11_qbz5n2kfra8p0\\localcache\\local-packages\\python311\\site-packages (from scikit-learn) (1.26.1)\n",
      "Requirement already satisfied: scipy>=1.5.0 in c:\\users\\amey\\appdata\\local\\packages\\pythonsoftwarefoundation.python.3.11_qbz5n2kfra8p0\\localcache\\local-packages\\python311\\site-packages (from scikit-learn) (1.11.3)\n",
      "Requirement already satisfied: joblib>=1.1.1 in c:\\users\\amey\\appdata\\local\\packages\\pythonsoftwarefoundation.python.3.11_qbz5n2kfra8p0\\localcache\\local-packages\\python311\\site-packages (from scikit-learn) (1.3.2)\n",
      "Requirement already satisfied: threadpoolctl>=2.0.0 in c:\\users\\amey\\appdata\\local\\packages\\pythonsoftwarefoundation.python.3.11_qbz5n2kfra8p0\\localcache\\local-packages\\python311\\site-packages (from scikit-learn) (3.2.0)\n"
     ]
    }
   ],
   "source": [
    "import pandas as pd\n",
    "import matplotlib.pyplot as plt\n",
    "import seaborn as sns\n",
    "!pip install scikit-learn"
   ]
  },
  {
   "cell_type": "code",
   "execution_count": 2,
   "id": "271a1ac7-29f6-438e-bae2-35aa93d979b1",
   "metadata": {},
   "outputs": [],
   "source": [
    "data = pd.read_csv(\"Advertising.csv\",index_col=0)"
   ]
  },
  {
   "cell_type": "code",
   "execution_count": 3,
   "id": "ac001627-54dc-46d0-8c7f-7495e25dff91",
   "metadata": {},
   "outputs": [
    {
     "data": {
      "text/html": [
       "<div>\n",
       "<style scoped>\n",
       "    .dataframe tbody tr th:only-of-type {\n",
       "        vertical-align: middle;\n",
       "    }\n",
       "\n",
       "    .dataframe tbody tr th {\n",
       "        vertical-align: top;\n",
       "    }\n",
       "\n",
       "    .dataframe thead th {\n",
       "        text-align: right;\n",
       "    }\n",
       "</style>\n",
       "<table border=\"1\" class=\"dataframe\">\n",
       "  <thead>\n",
       "    <tr style=\"text-align: right;\">\n",
       "      <th></th>\n",
       "      <th>TV</th>\n",
       "      <th>Radio</th>\n",
       "      <th>Newspaper</th>\n",
       "      <th>Sales</th>\n",
       "    </tr>\n",
       "  </thead>\n",
       "  <tbody>\n",
       "    <tr>\n",
       "      <th>1</th>\n",
       "      <td>230.1</td>\n",
       "      <td>37.8</td>\n",
       "      <td>69.2</td>\n",
       "      <td>22.1</td>\n",
       "    </tr>\n",
       "    <tr>\n",
       "      <th>2</th>\n",
       "      <td>44.5</td>\n",
       "      <td>39.3</td>\n",
       "      <td>45.1</td>\n",
       "      <td>10.4</td>\n",
       "    </tr>\n",
       "    <tr>\n",
       "      <th>3</th>\n",
       "      <td>17.2</td>\n",
       "      <td>45.9</td>\n",
       "      <td>69.3</td>\n",
       "      <td>9.3</td>\n",
       "    </tr>\n",
       "    <tr>\n",
       "      <th>4</th>\n",
       "      <td>151.5</td>\n",
       "      <td>41.3</td>\n",
       "      <td>58.5</td>\n",
       "      <td>18.5</td>\n",
       "    </tr>\n",
       "    <tr>\n",
       "      <th>5</th>\n",
       "      <td>180.8</td>\n",
       "      <td>10.8</td>\n",
       "      <td>58.4</td>\n",
       "      <td>12.9</td>\n",
       "    </tr>\n",
       "  </tbody>\n",
       "</table>\n",
       "</div>"
      ],
      "text/plain": [
       "      TV  Radio  Newspaper  Sales\n",
       "1  230.1   37.8       69.2   22.1\n",
       "2   44.5   39.3       45.1   10.4\n",
       "3   17.2   45.9       69.3    9.3\n",
       "4  151.5   41.3       58.5   18.5\n",
       "5  180.8   10.8       58.4   12.9"
      ]
     },
     "execution_count": 3,
     "metadata": {},
     "output_type": "execute_result"
    }
   ],
   "source": [
    "data.head()"
   ]
  },
  {
   "cell_type": "markdown",
   "id": "419b0b85-a43f-4a53-81d5-7f46ff0fbc84",
   "metadata": {},
   "source": [
    "# Data Preprocessing \n",
    "4 Mandatory Steps for preprocessing \n",
    "    1.Isnull check\n",
    "    2.Co-relation check\n",
    "    3.Outliers check\n",
    "    4.changing categorical into numerical"
   ]
  },
  {
   "cell_type": "code",
   "execution_count": 4,
   "id": "9cef61ff-681d-4518-8950-a4504c825aa1",
   "metadata": {},
   "outputs": [
    {
     "data": {
      "text/plain": [
       "Text(0.5, 1.0, 'Sales VS TV Advertising')"
      ]
     },
     "execution_count": 4,
     "metadata": {},
     "output_type": "execute_result"
    },
    {
     "data": {
      "image/png": "[encoded data removed]",
      "text/plain": [
       "<Figure size 640x480 with 1 Axes>"
      ]
     },
     "metadata": {},
     "output_type": "display_data"
    }
   ],
   "source": [
    "x = data[\"TV\"]\n",
    "y = data[\"Sales\"]\n",
    "\n",
    "plt.scatter(x,y)\n",
    "plt.xlabel(\"TV\")\n",
    "plt.ylabel(\"Sales\")\n",
    "plt.title(\"Sales VS TV Advertising\")"
   ]
  },
  {
   "cell_type": "code",
   "execution_count": 5,
   "id": "83116581-39b8-43ae-8447-672b08eedc29",
   "metadata": {},
   "outputs": [
    {
     "data": {
      "text/plain": [
       "Text(0.5, 1.0, 'Sales VS Radio')"
      ]
     },
     "execution_count": 5,
     "metadata": {},
     "output_type": "execute_result"
    },
    {
     "data": {
      "image/png": "[encoded data removed]",
      "text/plain": [
       "<Figure size 640x480 with 1 Axes>"
      ]
     },
     "metadata": {},
     "output_type": "display_data"
    }
   ],
   "source": [
    "x = data[\"Radio\"]\n",
    "y = data[\"Sales\"]\n",
    "\n",
    "plt.scatter(x,y)\n",
    "plt.xlabel(\"Radio\")\n",
    "plt.ylabel(\"Sales\")\n",
    "plt.title(\"Sales VS Radio\")"
   ]
  },
  {
   "cell_type": "code",
   "execution_count": 6,
   "id": "99f1743e-57a7-4654-b222-2fc55b6d00fb",
   "metadata": {},
   "outputs": [
    {
     "data": {
      "text/plain": [
       "Text(0.5, 1.0, 'Sales VS Newspaper')"
      ]
     },
     "execution_count": 6,
     "metadata": {},
     "output_type": "execute_result"
    },
    {
     "data": {
      "image/png": "[encoded data removed]",
      "text/plain": [
       "<Figure size 640x480 with 1 Axes>"
      ]
     },
     "metadata": {},
     "output_type": "display_data"
    }
   ],
   "source": [
    "x = data[\"Newspaper\"]\n",
    "y = data[\"Sales\"]\n",
    "\n",
    "plt.scatter(x,y)\n",
    "plt.xlabel(\"Newspaper\")\n",
    "plt.ylabel(\"Sales\")\n",
    "plt.title(\"Sales VS Newspaper\")"
   ]
  },
  {
   "cell_type": "code",
   "execution_count": 7,
   "id": "cceecf5f-528b-4716-8a6f-d19658d1f782",
   "metadata": {},
   "outputs": [
    {
     "data": {
      "text/plain": [
       "<Axes: >"
      ]
     },
     "execution_count": 7,
     "metadata": {},
     "output_type": "execute_result"
    },
    {
     "data": {
      "image/png": "[encoded data removed]",
      "text/plain": [
       "<Figure size 640x480 with 2 Axes>"
      ]
     },
     "metadata": {},
     "output_type": "display_data"
    }
   ],
   "source": [
    "sns.heatmap(data.corr(),annot = True)"
   ]
  },
  {
   "cell_type": "code",
   "execution_count": 8,
   "id": "b128972f-f319-4549-bd4a-f7534ba78aea",
   "metadata": {},
   "outputs": [
    {
     "data": {
      "text/plain": [
       "TV           0\n",
       "Radio        0\n",
       "Newspaper    0\n",
       "Sales        0\n",
       "dtype: int64"
      ]
     },
     "execution_count": 8,
     "metadata": {},
     "output_type": "execute_result"
    }
   ],
   "source": [
    "data.isnull().sum()"
   ]
  },
  {
   "cell_type": "code",
   "execution_count": 9,
   "id": "132aae64-03c1-4289-9e32-428bfd96bf27",
   "metadata": {},
   "outputs": [
    {
     "data": {
      "text/plain": [
       "{'whiskers': [<matplotlib.lines.Line2D at 0x1d4c35f6b50>,\n",
       "  <matplotlib.lines.Line2D at 0x1d4c35f76d0>],\n",
       " 'caps': [<matplotlib.lines.Line2D at 0x1d4c35f7f10>,\n",
       "  <matplotlib.lines.Line2D at 0x1d4c380c8d0>],\n",
       " 'boxes': [<matplotlib.lines.Line2D at 0x1d4c35b3e90>],\n",
       " 'medians': [<matplotlib.lines.Line2D at 0x1d4c380d210>],\n",
       " 'fliers': [<matplotlib.lines.Line2D at 0x1d4c380d9d0>],\n",
       " 'means': []}"
      ]
     },
     "execution_count": 9,
     "metadata": {},
     "output_type": "execute_result"
    },
    {
     "data": {
      "image/png": "[encoded data removed]",
      "text/plain": [
       "<Figure size 640x480 with 1 Axes>"
      ]
     },
     "metadata": {},
     "output_type": "display_data"
    }
   ],
   "source": [
    "plt.boxplot(data[\"TV\"])"
   ]
  },
  {
   "cell_type": "code",
   "execution_count": 10,
   "id": "b236fbd4-d144-4d44-a775-943b05f424b4",
   "metadata": {},
   "outputs": [
    {
     "data": {
      "text/plain": [
       "{'whiskers': [<matplotlib.lines.Line2D at 0x1d4c3875250>,\n",
       "  <matplotlib.lines.Line2D at 0x1d4c3875bd0>],\n",
       " 'caps': [<matplotlib.lines.Line2D at 0x1d4c3876450>,\n",
       "  <matplotlib.lines.Line2D at 0x1d4c3876bd0>],\n",
       " 'boxes': [<matplotlib.lines.Line2D at 0x1d4c38748d0>],\n",
       " 'medians': [<matplotlib.lines.Line2D at 0x1d4c3877410>],\n",
       " 'fliers': [<matplotlib.lines.Line2D at 0x1d4c3877cd0>],\n",
       " 'means': []}"
      ]
     },
     "execution_count": 10,
     "metadata": {},
     "output_type": "execute_result"
    },
    {
     "data": {
      "image/png": "[encoded data removed]",
      "text/plain": [
       "<Figure size 640x480 with 1 Axes>"
      ]
     },
     "metadata": {},
     "output_type": "display_data"
    }
   ],
   "source": [
    "plt.boxplot(data[\"Radio\"])"
   ]
  },
  {
   "cell_type": "code",
   "execution_count": 11,
   "id": "5b7e290b-559f-4b73-98c1-d35669efba77",
   "metadata": {},
   "outputs": [
    {
     "data": {
      "text/plain": [
       "{'whiskers': [<matplotlib.lines.Line2D at 0x1d4c38c5850>,\n",
       "  <matplotlib.lines.Line2D at 0x1d4c38c6450>],\n",
       " 'caps': [<matplotlib.lines.Line2D at 0x1d4c38c7050>,\n",
       "  <matplotlib.lines.Line2D at 0x1d4c38c7ad0>],\n",
       " 'boxes': [<matplotlib.lines.Line2D at 0x1d4c383bed0>],\n",
       " 'medians': [<matplotlib.lines.Line2D at 0x1d4c38cc450>],\n",
       " 'fliers': [<matplotlib.lines.Line2D at 0x1d4c38cd010>],\n",
       " 'means': []}"
      ]
     },
     "execution_count": 11,
     "metadata": {},
     "output_type": "execute_result"
    },
    {
     "data": {
      "image/png": "[encoded data removed]",
      "text/plain": [
       "<Figure size 640x480 with 1 Axes>"
      ]
     },
     "metadata": {},
     "output_type": "display_data"
    }
   ],
   "source": [
    "plt.boxplot(data[\"Newspaper\"])"
   ]
  },
  {
   "cell_type": "markdown",
   "id": "f7f2a4be-c829-48bf-a254-b05f1346ea91",
   "metadata": {},
   "source": [
    "Training data(Seen data) 70%\n",
    "Testing data(unSeen data) 30%"
   ]
  },
  {
   "cell_type": "markdown",
   "id": "dcb1fbfd-cc4d-434c-b0bf-2aabb236bc1b",
   "metadata": {},
   "source": [
    "# Linear regression formula : y = b0+b1x1"
   ]
  },
  {
   "cell_type": "code",
   "execution_count": 12,
   "id": "972adb8c-0744-4271-bbe5-96d3aac54946",
   "metadata": {},
   "outputs": [],
   "source": [
    "x = data[[\"TV\", \"Radio\", \"Newspaper\" ]]\n",
    "y = data[[\"Sales\"]]"
   ]
  },
  {
   "cell_type": "code",
   "execution_count": 13,
   "id": "6b0cdd87-827d-4766-868b-27d776b44c2b",
   "metadata": {},
   "outputs": [
    {
     "name": "stdout",
     "output_type": "stream",
     "text": [
      "shape of x (200, 3)\n",
      "shape of y (200, 1)\n"
     ]
    }
   ],
   "source": [
    "print(\"shape of x\", x.shape)\n",
    "print(\"shape of y\", y.shape)"
   ]
  },
  {
   "cell_type": "code",
   "execution_count": 14,
   "id": "4c5e2532-77f4-4f06-b9c9-9834e53112be",
   "metadata": {},
   "outputs": [],
   "source": [
    "from sklearn.model_selection import train_test_split"
   ]
  },
  {
   "cell_type": "code",
   "execution_count": 15,
   "id": "479affa7-0353-4ced-99b2-6106b4f7e4cb",
   "metadata": {},
   "outputs": [],
   "source": [
    "x_train,x_test, y_train,y_test = train_test_split(x,y,test_size=0.20)"
   ]
  },
  {
   "cell_type": "code",
   "execution_count": 16,
   "id": "52adf53b-65fb-4860-acdb-6d5a9298df21",
   "metadata": {},
   "outputs": [
    {
     "name": "stdout",
     "output_type": "stream",
     "text": [
      "the shape of x-train (160, 3)\n",
      "the shape of x-test (40, 3)\n",
      "the shape of y-train (160, 1)\n",
      "the shape of y-test (40, 1)\n"
     ]
    }
   ],
   "source": [
    "print(\"the shape of x-train\", x_train.shape)\n",
    "print(\"the shape of x-test\", x_test.shape)\n",
    "print(\"the shape of y-train\", y_train.shape)\n",
    "print(\"the shape of y-test\", y_test.shape)"
   ]
  },
  {
   "cell_type": "code",
   "execution_count": 17,
   "id": "49b72b11-effb-4ecf-b4ce-6682e04e1c8d",
   "metadata": {},
   "outputs": [],
   "source": [
    "from sklearn.linear_model import LinearRegression"
   ]
  },
  {
   "cell_type": "code",
   "execution_count": 18,
   "id": "4a74fd83-1641-4905-bcfc-6a72d0d18a5a",
   "metadata": {},
   "outputs": [],
   "source": [
    "lm = LinearRegression()"
   ]
  },
  {
   "cell_type": "code",
   "execution_count": 19,
   "id": "e38f3f7b-2dc0-42a0-a5d4-71aa7b0dcc1a",
   "metadata": {},
   "outputs": [],
   "source": [
    "Model=lm.fit(x_train,y_train)"
   ]
  },
  {
   "cell_type": "code",
   "execution_count": 20,
   "id": "d2e8aee9-da14-4954-93d9-e2ff894ad1d3",
   "metadata": {},
   "outputs": [
    {
     "name": "stdout",
     "output_type": "stream",
     "text": [
      "[[ 0.04414082  0.19696836 -0.0107479 ]]\n"
     ]
    }
   ],
   "source": [
    "print (lm.coef_)"
   ]
  },
  {
   "cell_type": "code",
   "execution_count": 21,
   "id": "65d5adb4-3dfe-4f97-90b8-dbf6c02c401d",
   "metadata": {},
   "outputs": [
    {
     "name": "stdout",
     "output_type": "stream",
     "text": [
      "[3.3872185]\n"
     ]
    }
   ],
   "source": [
    "print (lm.intercept_)"
   ]
  },
  {
   "cell_type": "code",
   "execution_count": 22,
   "id": "2c8e9fbf-4adc-4b3e-b94b-1fb57c67491d",
   "metadata": {},
   "outputs": [],
   "source": [
    "#y = b0 + b1x1+b2x2+b3x3"
   ]
  },
  {
   "cell_type": "code",
   "execution_count": 23,
   "id": "a4ced2de-b213-435a-a5f5-227cb3eaf6b0",
   "metadata": {},
   "outputs": [],
   "source": [
    "bzero = 2.98145109"
   ]
  },
  {
   "cell_type": "code",
   "execution_count": 24,
   "id": "9d4c7c7d-d088-4918-b04e-a8b88e12d417",
   "metadata": {},
   "outputs": [],
   "source": [
    "bone = 0.04517145"
   ]
  },
  {
   "cell_type": "code",
   "execution_count": 25,
   "id": "4d090438-9601-44f2-971d-39d2bcb512c7",
   "metadata": {},
   "outputs": [],
   "source": [
    "btwo = 0.18849175"
   ]
  },
  {
   "cell_type": "code",
   "execution_count": 26,
   "id": "bf2d9a20-3980-4db3-b021-19af8e76ae1e",
   "metadata": {},
   "outputs": [],
   "source": [
    "bthree = 0.00157577"
   ]
  },
  {
   "cell_type": "code",
   "execution_count": 27,
   "id": "1fee1e51-b62b-42cd-b3f2-deef22ce62ed",
   "metadata": {},
   "outputs": [],
   "source": [
    "y = bzero + bone*17.2 + btwo*45.9 +bthree*69.3"
   ]
  },
  {
   "cell_type": "code",
   "execution_count": 28,
   "id": "7bea1be3-ecdd-4b77-87fd-9817af534c28",
   "metadata": {},
   "outputs": [
    {
     "name": "stdout",
     "output_type": "stream",
     "text": [
      "12.519372216\n"
     ]
    }
   ],
   "source": [
    "print(y)"
   ]
  },
  {
   "cell_type": "code",
   "execution_count": 29,
   "id": "d261a5ec-e814-434f-9185-5409da45004d",
   "metadata": {},
   "outputs": [],
   "source": [
    "y_pred = lm.predict(x_test)"
   ]
  },
  {
   "cell_type": "code",
   "execution_count": 30,
   "id": "6fd8ad0d-65fc-48c3-a4db-2bf53ce92fb5",
   "metadata": {},
   "outputs": [
    {
     "name": "stdout",
     "output_type": "stream",
     "text": [
      "[[10.86271392]\n",
      " [13.51585591]\n",
      " [17.51485247]\n",
      " [ 9.85936941]\n",
      " [12.0580136 ]\n",
      " [21.42596078]\n",
      " [10.68599337]\n",
      " [20.83916205]\n",
      " [18.70958693]\n",
      " [14.36210036]\n",
      " [17.97944362]\n",
      " [14.87674751]\n",
      " [15.32979244]\n",
      " [11.1245574 ]\n",
      " [11.35119487]\n",
      " [12.44527942]\n",
      " [14.78891748]\n",
      " [12.87449467]\n",
      " [ 7.18724413]\n",
      " [12.28244779]\n",
      " [12.45290528]\n",
      " [12.73542181]\n",
      " [24.79230291]\n",
      " [21.10870142]\n",
      " [ 9.77593379]\n",
      " [23.46671587]\n",
      " [ 9.41390264]\n",
      " [14.68537604]\n",
      " [ 7.18728805]\n",
      " [ 6.33817829]\n",
      " [ 7.91839722]\n",
      " [12.86746003]\n",
      " [15.44873841]\n",
      " [20.245671  ]\n",
      " [20.48480989]\n",
      " [ 6.3444681 ]\n",
      " [17.7731443 ]\n",
      " [20.08206104]\n",
      " [13.57981967]\n",
      " [10.36017333]]\n"
     ]
    }
   ],
   "source": [
    "print(y_pred)"
   ]
  },
  {
   "cell_type": "code",
   "execution_count": 31,
   "id": "0076b106-4f48-49e2-8717-70fdb2a51a81",
   "metadata": {},
   "outputs": [
    {
     "data": {
      "text/html": [
       "<div>\n",
       "<style scoped>\n",
       "    .dataframe tbody tr th:only-of-type {\n",
       "        vertical-align: middle;\n",
       "    }\n",
       "\n",
       "    .dataframe tbody tr th {\n",
       "        vertical-align: top;\n",
       "    }\n",
       "\n",
       "    .dataframe thead th {\n",
       "        text-align: right;\n",
       "    }\n",
       "</style>\n",
       "<table border=\"1\" class=\"dataframe\">\n",
       "  <thead>\n",
       "    <tr style=\"text-align: right;\">\n",
       "      <th></th>\n",
       "      <th>TV</th>\n",
       "      <th>Radio</th>\n",
       "      <th>Newspaper</th>\n",
       "      <th>actual sales</th>\n",
       "      <th>predicted sales</th>\n",
       "    </tr>\n",
       "  </thead>\n",
       "  <tbody>\n",
       "    <tr>\n",
       "      <th>73</th>\n",
       "      <td>26.8</td>\n",
       "      <td>33.0</td>\n",
       "      <td>19.3</td>\n",
       "      <td>8.8</td>\n",
       "      <td>10.862714</td>\n",
       "    </tr>\n",
       "    <tr>\n",
       "      <th>101</th>\n",
       "      <td>222.4</td>\n",
       "      <td>4.3</td>\n",
       "      <td>49.8</td>\n",
       "      <td>11.7</td>\n",
       "      <td>13.515856</td>\n",
       "    </tr>\n",
       "    <tr>\n",
       "      <th>103</th>\n",
       "      <td>280.2</td>\n",
       "      <td>10.1</td>\n",
       "      <td>21.4</td>\n",
       "      <td>14.8</td>\n",
       "      <td>17.514852</td>\n",
       "    </tr>\n",
       "    <tr>\n",
       "      <th>152</th>\n",
       "      <td>121.0</td>\n",
       "      <td>8.4</td>\n",
       "      <td>48.7</td>\n",
       "      <td>11.6</td>\n",
       "      <td>9.859369</td>\n",
       "    </tr>\n",
       "    <tr>\n",
       "      <th>178</th>\n",
       "      <td>170.2</td>\n",
       "      <td>7.8</td>\n",
       "      <td>35.2</td>\n",
       "      <td>11.7</td>\n",
       "      <td>12.058014</td>\n",
       "    </tr>\n",
       "    <tr>\n",
       "      <th>31</th>\n",
       "      <td>292.9</td>\n",
       "      <td>28.3</td>\n",
       "      <td>43.2</td>\n",
       "      <td>21.4</td>\n",
       "      <td>21.425961</td>\n",
       "    </tr>\n",
       "    <tr>\n",
       "      <th>159</th>\n",
       "      <td>11.7</td>\n",
       "      <td>36.9</td>\n",
       "      <td>45.2</td>\n",
       "      <td>7.3</td>\n",
       "      <td>10.685993</td>\n",
       "    </tr>\n",
       "    <tr>\n",
       "      <th>16</th>\n",
       "      <td>195.4</td>\n",
       "      <td>47.7</td>\n",
       "      <td>52.9</td>\n",
       "      <td>22.4</td>\n",
       "      <td>20.839162</td>\n",
       "    </tr>\n",
       "    <tr>\n",
       "      <th>189</th>\n",
       "      <td>286.0</td>\n",
       "      <td>13.9</td>\n",
       "      <td>3.7</td>\n",
       "      <td>15.9</td>\n",
       "      <td>18.709587</td>\n",
       "    </tr>\n",
       "    <tr>\n",
       "      <th>111</th>\n",
       "      <td>225.8</td>\n",
       "      <td>8.2</td>\n",
       "      <td>56.5</td>\n",
       "      <td>13.4</td>\n",
       "      <td>14.362100</td>\n",
       "    </tr>\n",
       "    <tr>\n",
       "      <th>106</th>\n",
       "      <td>137.9</td>\n",
       "      <td>46.4</td>\n",
       "      <td>59.0</td>\n",
       "      <td>19.2</td>\n",
       "      <td>17.979444</td>\n",
       "    </tr>\n",
       "    <tr>\n",
       "      <th>104</th>\n",
       "      <td>187.9</td>\n",
       "      <td>17.2</td>\n",
       "      <td>17.9</td>\n",
       "      <td>14.7</td>\n",
       "      <td>14.876748</td>\n",
       "    </tr>\n",
       "    <tr>\n",
       "      <th>147</th>\n",
       "      <td>240.1</td>\n",
       "      <td>7.3</td>\n",
       "      <td>8.7</td>\n",
       "      <td>13.2</td>\n",
       "      <td>15.329792</td>\n",
       "    </tr>\n",
       "    <tr>\n",
       "      <th>131</th>\n",
       "      <td>0.7</td>\n",
       "      <td>39.6</td>\n",
       "      <td>8.7</td>\n",
       "      <td>1.6</td>\n",
       "      <td>11.124557</td>\n",
       "    </tr>\n",
       "    <tr>\n",
       "      <th>167</th>\n",
       "      <td>17.9</td>\n",
       "      <td>37.6</td>\n",
       "      <td>21.6</td>\n",
       "      <td>8.0</td>\n",
       "      <td>11.351195</td>\n",
       "    </tr>\n",
       "    <tr>\n",
       "      <th>51</th>\n",
       "      <td>199.8</td>\n",
       "      <td>3.1</td>\n",
       "      <td>34.6</td>\n",
       "      <td>11.4</td>\n",
       "      <td>12.445279</td>\n",
       "    </tr>\n",
       "    <tr>\n",
       "      <th>84</th>\n",
       "      <td>68.4</td>\n",
       "      <td>44.5</td>\n",
       "      <td>35.6</td>\n",
       "      <td>13.6</td>\n",
       "      <td>14.788917</td>\n",
       "    </tr>\n",
       "    <tr>\n",
       "      <th>149</th>\n",
       "      <td>38.0</td>\n",
       "      <td>40.3</td>\n",
       "      <td>11.9</td>\n",
       "      <td>10.9</td>\n",
       "      <td>12.874495</td>\n",
       "    </tr>\n",
       "    <tr>\n",
       "      <th>11</th>\n",
       "      <td>66.1</td>\n",
       "      <td>5.8</td>\n",
       "      <td>24.2</td>\n",
       "      <td>8.6</td>\n",
       "      <td>7.187244</td>\n",
       "    </tr>\n",
       "    <tr>\n",
       "      <th>68</th>\n",
       "      <td>139.3</td>\n",
       "      <td>14.5</td>\n",
       "      <td>10.2</td>\n",
       "      <td>13.4</td>\n",
       "      <td>12.282448</td>\n",
       "    </tr>\n",
       "    <tr>\n",
       "      <th>160</th>\n",
       "      <td>131.7</td>\n",
       "      <td>18.4</td>\n",
       "      <td>34.6</td>\n",
       "      <td>12.9</td>\n",
       "      <td>12.452905</td>\n",
       "    </tr>\n",
       "    <tr>\n",
       "      <th>97</th>\n",
       "      <td>197.6</td>\n",
       "      <td>3.5</td>\n",
       "      <td>5.9</td>\n",
       "      <td>11.7</td>\n",
       "      <td>12.735422</td>\n",
       "    </tr>\n",
       "    <tr>\n",
       "      <th>176</th>\n",
       "      <td>276.9</td>\n",
       "      <td>48.9</td>\n",
       "      <td>41.8</td>\n",
       "      <td>27.0</td>\n",
       "      <td>24.792303</td>\n",
       "    </tr>\n",
       "    <tr>\n",
       "      <th>186</th>\n",
       "      <td>205.0</td>\n",
       "      <td>45.1</td>\n",
       "      <td>19.6</td>\n",
       "      <td>22.6</td>\n",
       "      <td>21.108701</td>\n",
       "    </tr>\n",
       "    <tr>\n",
       "      <th>80</th>\n",
       "      <td>116.0</td>\n",
       "      <td>7.7</td>\n",
       "      <td>23.1</td>\n",
       "      <td>11.0</td>\n",
       "      <td>9.775934</td>\n",
       "    </tr>\n",
       "    <tr>\n",
       "      <th>199</th>\n",
       "      <td>283.6</td>\n",
       "      <td>42.0</td>\n",
       "      <td>66.2</td>\n",
       "      <td>25.5</td>\n",
       "      <td>23.466716</td>\n",
       "    </tr>\n",
       "    <tr>\n",
       "      <th>79</th>\n",
       "      <td>5.4</td>\n",
       "      <td>29.9</td>\n",
       "      <td>9.4</td>\n",
       "      <td>5.3</td>\n",
       "      <td>9.413903</td>\n",
       "    </tr>\n",
       "    <tr>\n",
       "      <th>136</th>\n",
       "      <td>48.3</td>\n",
       "      <td>47.0</td>\n",
       "      <td>8.5</td>\n",
       "      <td>11.6</td>\n",
       "      <td>14.685376</td>\n",
       "    </tr>\n",
       "    <tr>\n",
       "      <th>108</th>\n",
       "      <td>90.4</td>\n",
       "      <td>0.3</td>\n",
       "      <td>23.2</td>\n",
       "      <td>8.7</td>\n",
       "      <td>7.187288</td>\n",
       "    </tr>\n",
       "    <tr>\n",
       "      <th>107</th>\n",
       "      <td>25.0</td>\n",
       "      <td>11.0</td>\n",
       "      <td>29.7</td>\n",
       "      <td>7.2</td>\n",
       "      <td>6.338178</td>\n",
       "    </tr>\n",
       "    <tr>\n",
       "      <th>130</th>\n",
       "      <td>59.6</td>\n",
       "      <td>12.0</td>\n",
       "      <td>43.1</td>\n",
       "      <td>9.7</td>\n",
       "      <td>7.918397</td>\n",
       "    </tr>\n",
       "    <tr>\n",
       "      <th>5</th>\n",
       "      <td>180.8</td>\n",
       "      <td>10.8</td>\n",
       "      <td>58.4</td>\n",
       "      <td>12.9</td>\n",
       "      <td>12.867460</td>\n",
       "    </tr>\n",
       "    <tr>\n",
       "      <th>98</th>\n",
       "      <td>184.9</td>\n",
       "      <td>21.0</td>\n",
       "      <td>22.0</td>\n",
       "      <td>15.5</td>\n",
       "      <td>15.448738</td>\n",
       "    </tr>\n",
       "    <tr>\n",
       "      <th>1</th>\n",
       "      <td>230.1</td>\n",
       "      <td>37.8</td>\n",
       "      <td>69.2</td>\n",
       "      <td>22.1</td>\n",
       "      <td>20.245671</td>\n",
       "    </tr>\n",
       "    <tr>\n",
       "      <th>55</th>\n",
       "      <td>262.7</td>\n",
       "      <td>28.8</td>\n",
       "      <td>15.9</td>\n",
       "      <td>20.2</td>\n",
       "      <td>20.484810</td>\n",
       "    </tr>\n",
       "    <tr>\n",
       "      <th>190</th>\n",
       "      <td>18.7</td>\n",
       "      <td>12.1</td>\n",
       "      <td>23.4</td>\n",
       "      <td>6.7</td>\n",
       "      <td>6.344468</td>\n",
       "    </tr>\n",
       "    <tr>\n",
       "      <th>164</th>\n",
       "      <td>163.5</td>\n",
       "      <td>36.8</td>\n",
       "      <td>7.4</td>\n",
       "      <td>18.0</td>\n",
       "      <td>17.773144</td>\n",
       "    </tr>\n",
       "    <tr>\n",
       "      <th>177</th>\n",
       "      <td>248.4</td>\n",
       "      <td>30.2</td>\n",
       "      <td>20.3</td>\n",
       "      <td>20.2</td>\n",
       "      <td>20.082061</td>\n",
       "    </tr>\n",
       "    <tr>\n",
       "      <th>123</th>\n",
       "      <td>224.0</td>\n",
       "      <td>2.4</td>\n",
       "      <td>15.6</td>\n",
       "      <td>11.6</td>\n",
       "      <td>13.579820</td>\n",
       "    </tr>\n",
       "    <tr>\n",
       "      <th>83</th>\n",
       "      <td>75.3</td>\n",
       "      <td>20.3</td>\n",
       "      <td>32.5</td>\n",
       "      <td>11.3</td>\n",
       "      <td>10.360173</td>\n",
       "    </tr>\n",
       "  </tbody>\n",
       "</table>\n",
       "</div>"
      ],
      "text/plain": [
       "        TV  Radio  Newspaper  actual sales  predicted sales\n",
       "73    26.8   33.0       19.3           8.8        10.862714\n",
       "101  222.4    4.3       49.8          11.7        13.515856\n",
       "103  280.2   10.1       21.4          14.8        17.514852\n",
       "152  121.0    8.4       48.7          11.6         9.859369\n",
       "178  170.2    7.8       35.2          11.7        12.058014\n",
       "31   292.9   28.3       43.2          21.4        21.425961\n",
       "159   11.7   36.9       45.2           7.3        10.685993\n",
       "16   195.4   47.7       52.9          22.4        20.839162\n",
       "189  286.0   13.9        3.7          15.9        18.709587\n",
       "111  225.8    8.2       56.5          13.4        14.362100\n",
       "106  137.9   46.4       59.0          19.2        17.979444\n",
       "104  187.9   17.2       17.9          14.7        14.876748\n",
       "147  240.1    7.3        8.7          13.2        15.329792\n",
       "131    0.7   39.6        8.7           1.6        11.124557\n",
       "167   17.9   37.6       21.6           8.0        11.351195\n",
       "51   199.8    3.1       34.6          11.4        12.445279\n",
       "84    68.4   44.5       35.6          13.6        14.788917\n",
       "149   38.0   40.3       11.9          10.9        12.874495\n",
       "11    66.1    5.8       24.2           8.6         7.187244\n",
       "68   139.3   14.5       10.2          13.4        12.282448\n",
       "160  131.7   18.4       34.6          12.9        12.452905\n",
       "97   197.6    3.5        5.9          11.7        12.735422\n",
       "176  276.9   48.9       41.8          27.0        24.792303\n",
       "186  205.0   45.1       19.6          22.6        21.108701\n",
       "80   116.0    7.7       23.1          11.0         9.775934\n",
       "199  283.6   42.0       66.2          25.5        23.466716\n",
       "79     5.4   29.9        9.4           5.3         9.413903\n",
       "136   48.3   47.0        8.5          11.6        14.685376\n",
       "108   90.4    0.3       23.2           8.7         7.187288\n",
       "107   25.0   11.0       29.7           7.2         6.338178\n",
       "130   59.6   12.0       43.1           9.7         7.918397\n",
       "5    180.8   10.8       58.4          12.9        12.867460\n",
       "98   184.9   21.0       22.0          15.5        15.448738\n",
       "1    230.1   37.8       69.2          22.1        20.245671\n",
       "55   262.7   28.8       15.9          20.2        20.484810\n",
       "190   18.7   12.1       23.4           6.7         6.344468\n",
       "164  163.5   36.8        7.4          18.0        17.773144\n",
       "177  248.4   30.2       20.3          20.2        20.082061\n",
       "123  224.0    2.4       15.6          11.6        13.579820\n",
       "83    75.3   20.3       32.5          11.3        10.360173"
      ]
     },
     "execution_count": 31,
     "metadata": {},
     "output_type": "execute_result"
    }
   ],
   "source": [
    "import pandas as pd\n",
    "newdf= pd\n",
    "newdf= x_test\n",
    "newdf['actual sales']=y_test\n",
    "newdf['predicted sales']=y_pred\n",
    "newdf"
   ]
  },
  {
   "cell_type": "code",
   "execution_count": 32,
   "id": "a275c38d-d363-48be-a5b3-8082f235191d",
   "metadata": {},
   "outputs": [
    {
     "name": "stdout",
     "output_type": "stream",
     "text": [
      "R-squared: 83.17972849245288\n",
      "RMSE: 2.3109818250339687\n"
     ]
    }
   ],
   "source": [
    "from sklearn.metrics import r2_score,mean_squared_error\n",
    "import numpy as np\n",
    "\n",
    "r2=r2_score(y_test,y_pred)\n",
    "print(\"R-squared:\", r2*100)\n",
    "\n",
    "rmse=np.sqrt(mean_squared_error(y_test,y_pred))\n",
    "print(\"RMSE:\",rmse)"
   ]
  },
  {
   "cell_type": "code",
   "execution_count": 33,
   "id": "7d964803-433e-4114-b7b6-e01fb1e89f28",
   "metadata": {},
   "outputs": [],
   "source": [
    "newdf.to_csv(\"Updated.csv\")"
   ]
  },
  {
   "cell_type": "code",
   "execution_count": null,
   "id": "f2a2265a-5ec3-480a-8aa2-bfd5bf56c385",
   "metadata": {},
   "outputs": [],
   "source": []
  }
 ],
 "metadata": {
  "kernelspec": {
   "display_name": "Python 3 (ipykernel)",
   "language": "python",
   "name": "python3"
  },
  "language_info": {
   "codemirror_mode": {
    "name": "ipython",
    "version": 3
   },
   "file_extension": ".py",
   "mimetype": "text/x-python",
   "name": "python",
   "nbconvert_exporter": "python",
   "pygments_lexer": "ipython3",
   "version": "3.11.6"
  },
  "widgets": {
   "application/vnd.jupyter.widget-state+json": {
    "state": {},
    "version_major": 2,
    "version_minor": 0
   }
  }
 },
 "nbformat": 4,
 "nbformat_minor": 5
}
